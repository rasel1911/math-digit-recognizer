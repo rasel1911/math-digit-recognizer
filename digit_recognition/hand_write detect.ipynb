{
 "cells": [
  {
   "cell_type": "code",
   "execution_count": 1,
   "id": "98821cca",
   "metadata": {},
   "outputs": [],
   "source": [
    "import numpy as np\n",
    "import pandas as pd\n",
    "import matplotlib.pyplot as plt"
   ]
  },
  {
   "cell_type": "code",
   "execution_count": 2,
   "id": "52b20bd1",
   "metadata": {},
   "outputs": [],
   "source": [
    "df = pd.read_csv('train.csv')"
   ]
  },
  {
   "cell_type": "code",
   "execution_count": 3,
   "id": "b75d66a2",
   "metadata": {},
   "outputs": [],
   "source": [
    "X_train_main = df.drop('label', axis=1)\n",
    "Y_train_main = df.label"
   ]
  },
  {
   "cell_type": "code",
   "execution_count": 4,
   "id": "cf684ba4",
   "metadata": {},
   "outputs": [],
   "source": [
    "X_train=X_train_main.to_numpy()\n",
    "Y_train=Y_train_main.to_numpy()"
   ]
  },
  {
   "cell_type": "code",
   "execution_count": 5,
   "id": "295d1245",
   "metadata": {},
   "outputs": [
    {
     "data": {
      "text/plain": [
       "(42000, 784)"
      ]
     },
     "execution_count": 5,
     "metadata": {},
     "output_type": "execute_result"
    }
   ],
   "source": [
    "X_train.shape"
   ]
  },
  {
   "cell_type": "code",
   "execution_count": 6,
   "id": "e2921dda",
   "metadata": {},
   "outputs": [
    {
     "data": {
      "text/plain": [
       "numpy.ndarray"
      ]
     },
     "execution_count": 6,
     "metadata": {},
     "output_type": "execute_result"
    }
   ],
   "source": [
    "type(Y_train)"
   ]
  },
  {
   "cell_type": "code",
   "execution_count": 7,
   "id": "67285c46",
   "metadata": {},
   "outputs": [],
   "source": [
    "import tensorflow as tf\n",
    "from tensorflow.keras import Sequential\n",
    "from tensorflow.keras.layers import Dense\n",
    "from tensorflow.keras.losses import SparseCategoricalCrossentropy"
   ]
  },
  {
   "cell_type": "code",
   "execution_count": 17,
   "id": "29211109",
   "metadata": {},
   "outputs": [],
   "source": [
    "model=Sequential([\n",
    "    Dense(units=120,activation=\"relu\"),\n",
    "    Dense(units=84, activation=\"relu\"),\n",
    "    Dense(units=10, activation=\"linear\")\n",
    "])"
   ]
  },
  {
   "cell_type": "code",
   "execution_count": 18,
   "id": "7011cb0c",
   "metadata": {},
   "outputs": [],
   "source": [
    "model.compile(loss=SparseCategoricalCrossentropy(from_logits=True),metrics='accuracy')"
   ]
  },
  {
   "cell_type": "code",
   "execution_count": 19,
   "id": "8651473f",
   "metadata": {},
   "outputs": [
    {
     "name": "stdout",
     "output_type": "stream",
     "text": [
      "Epoch 1/20\n",
      "1313/1313 [==============================] - 9s 6ms/step - loss: 2.4282 - accuracy: 0.8598\n",
      "Epoch 2/20\n",
      "1313/1313 [==============================] - 15s 11ms/step - loss: 0.4860 - accuracy: 0.9251\n",
      "Epoch 3/20\n",
      "1313/1313 [==============================] - 8s 6ms/step - loss: 0.3091 - accuracy: 0.9414\n",
      "Epoch 4/20\n",
      "1313/1313 [==============================] - 8s 6ms/step - loss: 0.2754 - accuracy: 0.9464\n",
      "Epoch 5/20\n",
      "1313/1313 [==============================] - 8s 6ms/step - loss: 0.2503 - accuracy: 0.9545\n",
      "Epoch 6/20\n",
      "1313/1313 [==============================] - 9s 7ms/step - loss: 0.2252 - accuracy: 0.9584\n",
      "Epoch 7/20\n",
      "1313/1313 [==============================] - 8s 6ms/step - loss: 0.2197 - accuracy: 0.9604\n",
      "Epoch 8/20\n",
      "1313/1313 [==============================] - 8s 6ms/step - loss: 0.2223 - accuracy: 0.9641\n",
      "Epoch 9/20\n",
      "1313/1313 [==============================] - 8s 6ms/step - loss: 0.2015 - accuracy: 0.9644\n",
      "Epoch 10/20\n",
      "1313/1313 [==============================] - 14s 11ms/step - loss: 0.2073 - accuracy: 0.9669\n",
      "Epoch 11/20\n",
      "1313/1313 [==============================] - 8s 6ms/step - loss: 0.1945 - accuracy: 0.9679\n",
      "Epoch 12/20\n",
      "1313/1313 [==============================] - 9s 7ms/step - loss: 0.1931 - accuracy: 0.9682\n",
      "Epoch 13/20\n",
      "1313/1313 [==============================] - 8s 6ms/step - loss: 0.1911 - accuracy: 0.9697\n",
      "Epoch 14/20\n",
      "1313/1313 [==============================] - 8s 6ms/step - loss: 0.1925 - accuracy: 0.9697\n",
      "Epoch 15/20\n",
      "1313/1313 [==============================] - 8s 6ms/step - loss: 0.1805 - accuracy: 0.9729\n",
      "Epoch 16/20\n",
      "1313/1313 [==============================] - 16s 12ms/step - loss: 0.1877 - accuracy: 0.9732\n",
      "Epoch 17/20\n",
      "1313/1313 [==============================] - 14s 11ms/step - loss: 0.1712 - accuracy: 0.9735\n",
      "Epoch 18/20\n",
      "1313/1313 [==============================] - 8s 6ms/step - loss: 0.1756 - accuracy: 0.9741\n",
      "Epoch 19/20\n",
      "1313/1313 [==============================] - 9s 7ms/step - loss: 0.1773 - accuracy: 0.9746\n",
      "Epoch 20/20\n",
      "1313/1313 [==============================] - 9s 7ms/step - loss: 0.1774 - accuracy: 0.9748\n"
     ]
    }
   ],
   "source": [
    "model_hist=model.fit(X_train,Y_train,epochs=20)"
   ]
  },
  {
   "cell_type": "code",
   "execution_count": 20,
   "id": "f75718a6",
   "metadata": {},
   "outputs": [],
   "source": [
    "X_test = pd.read_csv('test.csv')\n",
    "X_test = X_test.to_numpy()"
   ]
  },
  {
   "cell_type": "code",
   "execution_count": 21,
   "id": "d0bb9f87",
   "metadata": {},
   "outputs": [
    {
     "name": "stdout",
     "output_type": "stream",
     "text": [
      "875/875 [==============================] - 9s 3ms/step\n"
     ]
    }
   ],
   "source": [
    "Y_pred = model.predict(X_test)"
   ]
  },
  {
   "cell_type": "code",
   "execution_count": 22,
   "id": "9e3d80f7",
   "metadata": {},
   "outputs": [
    {
     "data": {
      "text/plain": [
       "array([2, 0, 9, 9, 3, 7, 0, 3, 0, 3], dtype=int64)"
      ]
     },
     "execution_count": 22,
     "metadata": {},
     "output_type": "execute_result"
    }
   ],
   "source": [
    "np.argmax(Y_pred[0:10],axis=1)"
   ]
  },
  {
   "cell_type": "code",
   "execution_count": null,
   "id": "72a25c66",
   "metadata": {},
   "outputs": [],
   "source": []
  }
 ],
 "metadata": {
  "kernelspec": {
   "display_name": "Python 3 (ipykernel)",
   "language": "python",
   "name": "python3"
  },
  "language_info": {
   "codemirror_mode": {
    "name": "ipython",
    "version": 3
   },
   "file_extension": ".py",
   "mimetype": "text/x-python",
   "name": "python",
   "nbconvert_exporter": "python",
   "pygments_lexer": "ipython3",
   "version": "3.9.5"
  }
 },
 "nbformat": 4,
 "nbformat_minor": 5
}
